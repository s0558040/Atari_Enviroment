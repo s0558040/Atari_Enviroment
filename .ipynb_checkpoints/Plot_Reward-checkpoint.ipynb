{
 "cells": [
  {
   "cell_type": "markdown",
   "metadata": {},
   "source": [
    "# Jupyter Notebook für den Plot des Rewards"
   ]
  },
  {
   "cell_type": "code",
   "execution_count": 1,
   "metadata": {},
   "outputs": [
    {
     "data": {
      "text/plain": [
       "<Figure size 600x600 with 1 Axes>"
      ]
     },
     "metadata": {},
     "output_type": "display_data"
    }
   ],
   "source": [
    "import matplotlib.pyplot as plt\n",
    "import csv\n",
    "\n",
    "reward_list = []\n",
    "episode_list = []\n",
    "\n",
    "with open('learning_curve.csv', newline='') as csvfile:\n",
    "    filereader = csv.reader(csvfile, delimiter=' ', quotechar='|')\n",
    "    for row in filereader:\n",
    "        reward_list.append(row[0])\n",
    "        episode_list.append(row[1])\n",
    "\n",
    "#plt.figure(figsize=(20,15))\n",
    "plt.figure(figsize=(len(episode_list),len(reward_list)))\n",
    "plt.plot(episode_list,reward_list)\n",
    "plt.xlabel('Episode')\n",
    "plt.ylabel('Reward')\n",
    "plt.title('Learning_Curve')\n",
    "plt.savefig('Reward_Plot.pdf')\n",
    "plt.show()"
   ]
  },
  {
   "cell_type": "code",
   "execution_count": null,
   "metadata": {},
   "outputs": [],
   "source": []
  }
 ],
 "metadata": {
  "kernelspec": {
   "display_name": "Python 3",
   "language": "python",
   "name": "python3"
  },
  "language_info": {
   "codemirror_mode": {
    "name": "ipython",
    "version": 3
   },
   "file_extension": ".py",
   "mimetype": "text/x-python",
   "name": "python",
   "nbconvert_exporter": "python",
   "pygments_lexer": "ipython3",
   "version": "3.7.0"
  }
 },
 "nbformat": 4,
 "nbformat_minor": 2
}
