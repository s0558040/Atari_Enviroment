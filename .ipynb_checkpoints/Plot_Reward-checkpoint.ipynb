{
 "cells": [
  {
   "cell_type": "markdown",
   "metadata": {},
   "source": [
    "# Jupyter Notebook für den Plot des Rewards"
   ]
  },
  {
   "cell_type": "code",
   "execution_count": null,
   "metadata": {},
   "outputs": [],
   "source": [
    "import matplotlib.pyplot as plt\n",
    "import csv\n",
    "\n",
    "reward_list = []\n",
    "episode_list = []\n",
    "\n",
    "with open('learning_curve.csv', newline='') as csvfile:\n",
    "    filereader = csv.reader(csvfile, delimiter=' ', quotechar='|')\n",
    "    for row in filereader:\n",
    "        reward_list.append(row[0])\n",
    "        episode_list.append(row[1])\n",
    "\n",
    "reward_list = list(map(float, reward_list))\n",
    "episode_list = list(map(int, episode_list))\n",
    "\n",
    "fig = plt.figure(1, (30,20), frameon=False, dpi=300)\n",
    "fig.add_axes([0,0,1,1])\n",
    "ax = plt.gca()\n",
    "\n",
    "corners = ((episode_list[0],reward_list[0]), (len(episode_list)-1, 200))\n",
    "ax.update_datalim(corners)\n",
    "\n",
    "ax.plot(episode_list, reward_list)\n",
    "ax.set_title('Learning_Curve')\n",
    "ax.set_xlabel('Episode')\n",
    "ax.set_ylabel('Reward')\n",
    "fig.savefig('Reward_Plot.pdf',bbox_inches='tight')\n",
    "fig.show()"
   ]
  },
  {
   "cell_type": "code",
   "execution_count": null,
   "metadata": {},
   "outputs": [],
   "source": []
  }
 ],
 "metadata": {
  "kernelspec": {
   "display_name": "Python 3",
   "language": "python",
   "name": "python3"
  },
  "language_info": {
   "codemirror_mode": {
    "name": "ipython",
    "version": 3
   },
   "file_extension": ".py",
   "mimetype": "text/x-python",
   "name": "python",
   "nbconvert_exporter": "python",
   "pygments_lexer": "ipython3",
   "version": "3.7.0"
  }
 },
 "nbformat": 4,
 "nbformat_minor": 2
}
